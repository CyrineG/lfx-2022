{
  "nbformat": 4,
  "nbformat_minor": 0,
  "metadata": {
    "colab": {
      "provenance": [],
      "collapsed_sections": [],
      "authorship_tag": "ABX9TyOt91S8n6fUpDhfQdDX/XHi",
      "include_colab_link": true
    },
    "kernelspec": {
      "name": "python3",
      "display_name": "Python 3"
    },
    "language_info": {
      "name": "python"
    }
  },
  "cells": [
    {
      "cell_type": "markdown",
      "metadata": {
        "id": "view-in-github",
        "colab_type": "text"
      },
      "source": [
        "<a href=\"https://colab.research.google.com/github/CyrineG/lfx-2022/blob/main/KG_script.ipynb\" target=\"_parent\"><img src=\"https://colab.research.google.com/assets/colab-badge.svg\" alt=\"Open In Colab\"/></a>"
      ]
    },
    {
      "cell_type": "code",
      "execution_count": null,
      "metadata": {
        "colab": {
          "base_uri": "https://localhost:8080/"
        },
        "id": "rWfYgX3oYqr-",
        "outputId": "f0f3d589-d6a9-4526-8a6a-cb58111f920f"
      },
      "outputs": [
        {
          "output_type": "stream",
          "name": "stdout",
          "text": [
            "Looking in indexes: https://pypi.org/simple, https://us-python.pkg.dev/colab-wheels/public/simple/\n",
            "Requirement already satisfied: rdflib in /usr/local/lib/python3.7/dist-packages (6.2.0)\n",
            "Requirement already satisfied: neo4j in /usr/local/lib/python3.7/dist-packages (5.1.0)\n",
            "Requirement already satisfied: pyparsing in /usr/local/lib/python3.7/dist-packages (from rdflib) (3.0.9)\n",
            "Requirement already satisfied: isodate in /usr/local/lib/python3.7/dist-packages (from rdflib) (0.6.1)\n",
            "Requirement already satisfied: importlib-metadata in /usr/local/lib/python3.7/dist-packages (from rdflib) (5.0.0)\n",
            "Requirement already satisfied: setuptools in /usr/local/lib/python3.7/dist-packages (from rdflib) (57.4.0)\n",
            "Requirement already satisfied: pytz in /usr/local/lib/python3.7/dist-packages (from neo4j) (2022.4)\n",
            "Requirement already satisfied: typing-extensions>=3.6.4 in /usr/local/lib/python3.7/dist-packages (from importlib-metadata->rdflib) (4.1.1)\n",
            "Requirement already satisfied: zipp>=0.5 in /usr/local/lib/python3.7/dist-packages (from importlib-metadata->rdflib) (3.8.1)\n",
            "Requirement already satisfied: six in /usr/local/lib/python3.7/dist-packages (from isodate->rdflib) (1.15.0)\n"
          ]
        }
      ],
      "source": [
        "pip install rdflib neo4j"
      ]
    },
    {
      "cell_type": "code",
      "source": [
        "import rdflib, time"
      ],
      "metadata": {
        "id": "1OE002yhY3Al"
      },
      "execution_count": null,
      "outputs": []
    },
    {
      "cell_type": "code",
      "source": [
        "#utility function to get the local part of a URI (stripping out the namespace)\n",
        "\n",
        "def getLocalPart(uri):\n",
        "  pos = -1\n",
        "  pos = uri.rfind('#') \n",
        "  if pos < 0 :\n",
        "    pos = uri.rfind('/')  \n",
        "  #if pos < 0 :\n",
        "    #pos = uri.rindex(':')\n",
        "  return uri[pos+1:]\n",
        "\n",
        "def getNamespacePart(uri):\n",
        "  pos = -1\n",
        "  pos = uri.rfind('#') \n",
        "  if pos < 0 :\n",
        "    pos = uri.rfind('/')  \n",
        "  #if pos < 0 :\n",
        "    #pos = uri.rindex(':')\n",
        "  return uri[0:pos+1]\n",
        "\n",
        "# quick test\n",
        "print(getLocalPart(\"http://onto.neo4j.com/rail#Station\"))\n",
        "print(getNamespacePart(\"http://onto.neo4j.com/rail#Station\"))\n"
      ],
      "metadata": {
        "colab": {
          "base_uri": "https://localhost:8080/"
        },
        "id": "xFiXV9VlY7Wd",
        "outputId": "ba12e08d-e0e8-4be3-ab0f-1a99280e39eb"
      },
      "execution_count": null,
      "outputs": [
        {
          "output_type": "stream",
          "name": "stdout",
          "text": [
            "Station\n",
            "http://onto.neo4j.com/rail#\n"
          ]
        }
      ]
    },
    {
      "cell_type": "code",
      "source": [
        "# processing the ontology...\n",
        " \n",
        "g = rdflib.Graph()\n",
        "g.parse(\"https://raw.githubusercontent.com/CyrineG/lfx-2022/main/onto/kubernetes-resources2.ttl\", format='turtle')\n",
        "\n",
        "simple_query = \"\"\"\n",
        "prefix owl: <http://www.w3.org/2002/07/owl#> \n",
        "prefix rdf: <http://www.w3.org/1999/02/22-rdf-syntax-ns#> \n",
        "\n",
        "SELECT DISTINCT ?c\n",
        "  WHERE {\n",
        "    ?c rdf:type owl:Class .    \n",
        "  } \"\"\"\n",
        "\n",
        "for row in g.query(simple_query):\n",
        "    print(str(row.c), getLocalPart(str(row.c)), getNamespacePart(str(row.c)))"
      ],
      "metadata": {
        "colab": {
          "base_uri": "https://localhost:8080/"
        },
        "id": "7IGge0A9ZB-y",
        "outputId": "d6b0c05b-0a4a-4fd1-eeeb-76c61eaaa116"
      },
      "execution_count": null,
      "outputs": [
        {
          "output_type": "stream",
          "name": "stdout",
          "text": [
            "http://www.semanticweb.org/cyrine/ontologies/2022/8/kubernetes-resources#pod pod http://www.semanticweb.org/cyrine/ontologies/2022/8/kubernetes-resources#\n",
            "http://www.semanticweb.org/cyrine/ontologies/2022/8/kubernetes-resources#replicaset replicaset http://www.semanticweb.org/cyrine/ontologies/2022/8/kubernetes-resources#\n"
          ]
        }
      ]
    },
    {
      "cell_type": "code",
      "source": [
        "# get json data and convert to csv\n",
        "\n",
        "import json\n",
        "import pandas\n",
        "import requests\n",
        "\n",
        "def load_json(url: str) -> dict:\n",
        "\n",
        "  response = requests.get(url)\n",
        "  data = json.loads(response.content)\n",
        "\n",
        "  return data\n",
        "\n",
        "\n",
        "def create_dataframe(data: list) -> pandas.DataFrame:\n",
        "\n",
        "\t# Declare an empty dataframe to append records\n",
        "\tdataframe = pandas.DataFrame()\n",
        "\n",
        "\t# Looping through each record\n",
        "\tfor d in data:\n",
        "\t\t\n",
        "\t\t# Normalize the column levels\n",
        "\t\trecord = pandas.json_normalize(d)\n",
        "\t\t\n",
        "\t\t# Append it to the dataframe\n",
        "\t\tdataframe = dataframe.append(record, ignore_index=True)\n",
        "\n",
        "\treturn dataframe\n",
        "\n",
        "\n",
        "# Read the JSON file as python dictionary\n",
        "pods_data = load_json(url='https://raw.githubusercontent.com/CyrineG/lfx-2022/main/data/pods.json')\n",
        "rs_data = load_json(url='https://raw.githubusercontent.com/CyrineG/lfx-2022/main/data/replicasets.json')\n",
        "\n",
        "# Generate the dataframe for the array items in\n",
        "# details key\n",
        "pods_dataframe = create_dataframe(data=pods_data['items'])\n",
        "rs_dataframe = create_dataframe(data=rs_data['items'])\n",
        "\n",
        "# Renaming columns of the dataframe\n",
        "print(\"Normalized PODS Columns:\", pods_dataframe.columns.to_list())\n",
        "print(\"Normalized REPLICASETS Columns:\", rs_dataframe.columns.to_list())\n",
        "\n",
        "#dataframe.rename(columns={\n",
        "#        \"results.school\": \"school\",\n",
        "#        \"results.high_school\": \"high_school\",\n",
        "#        \"results.graduation\": \"graduation\",\n",
        "#        \"education.graduation.major\": \"grad_major\",\n",
        "#        \"education.graduation.minor\": \"grad_minor\"\n",
        "#    }, inplace=True)\n",
        "\n",
        "#print(\"Renamed Columns:\", dataframe.columns.to_list())\n",
        "\n",
        "# Convert dataframe to CSV\n",
        "pods_dataframe.to_csv(\"pods.csv\", index=False)\n",
        "rs_dataframe.to_csv(\"rs.csv\", index=False)\n",
        "\n"
      ],
      "metadata": {
        "colab": {
          "base_uri": "https://localhost:8080/"
        },
        "id": "NvppdLlYlae3",
        "outputId": "02c98960-1d28-4758-e51b-dcff3d9d6c0a"
      },
      "execution_count": null,
      "outputs": [
        {
          "output_type": "stream",
          "name": "stdout",
          "text": [
            "Normalized PODS Columns: ['apiVersion', 'kind', 'metadata.creationTimestamp', 'metadata.generateName', 'metadata.labels.app', 'metadata.labels.pod-template-hash', 'metadata.name', 'metadata.namespace', 'metadata.ownerReferences', 'metadata.resourceVersion', 'metadata.uid', 'spec.containers', 'spec.dnsPolicy', 'spec.enableServiceLinks', 'spec.nodeName', 'spec.preemptionPolicy', 'spec.priority', 'spec.restartPolicy', 'spec.schedulerName', 'spec.serviceAccount', 'spec.serviceAccountName', 'spec.terminationGracePeriodSeconds', 'spec.tolerations', 'spec.volumes', 'status.conditions', 'status.containerStatuses', 'status.hostIP', 'status.phase', 'status.qosClass', 'status.startTime', 'status.podIP', 'status.podIPs']\n",
            "Normalized REPLICASETS Columns: ['apiVersion', 'kind', 'metadata.annotations.deployment.kubernetes.io/desired-replicas', 'metadata.annotations.deployment.kubernetes.io/max-replicas', 'metadata.annotations.deployment.kubernetes.io/revision', 'metadata.creationTimestamp', 'metadata.generation', 'metadata.labels.app', 'metadata.labels.pod-template-hash', 'metadata.name', 'metadata.namespace', 'metadata.ownerReferences', 'metadata.resourceVersion', 'metadata.uid', 'spec.replicas', 'spec.selector.matchLabels.app', 'spec.selector.matchLabels.pod-template-hash', 'spec.template.metadata.creationTimestamp', 'spec.template.metadata.labels.app', 'spec.template.metadata.labels.pod-template-hash', 'spec.template.spec.containers', 'spec.template.spec.dnsPolicy', 'spec.template.spec.restartPolicy', 'spec.template.spec.schedulerName', 'spec.template.spec.terminationGracePeriodSeconds', 'spec.template.spec.volumes', 'status.fullyLabeledReplicas', 'status.observedGeneration', 'status.replicas', 'status.availableReplicas', 'status.readyReplicas']\n"
          ]
        }
      ]
    },
    {
      "cell_type": "code",
      "source": [
        "resourcesMappings = {}\n",
        "\n",
        "podMapping = {}\n",
        "podMapping[\"@fileName\"] = \"pods.csv\"\n",
        "podMapping[\"@uniqueId\"] = \"uid\"\n",
        "podMapping[\"uid\"]=\"metadata.uid\"\n",
        "resourcesMappings[\"pod\"] = podMapping\n",
        "\n",
        "replicasetMapping = {}\n",
        "replicasetMapping[\"@fileName\"] = \"rs.csv\"\n",
        "replicasetMapping[\"@uniqueId\"] = \"uid\"\n",
        "replicasetMapping[\"uid\"]=\"metadata.uid\"\n",
        "resourcesMappings[\"replicaset\"] = replicasetMapping\n",
        "\n",
        "# show it?\n",
        "resourcesMappings\n"
      ],
      "metadata": {
        "colab": {
          "base_uri": "https://localhost:8080/"
        },
        "id": "d5jXHJFlpMPY",
        "outputId": "e8008a0a-a4ac-4cc7-8278-05bc47640756"
      },
      "execution_count": null,
      "outputs": [
        {
          "output_type": "execute_result",
          "data": {
            "text/plain": [
              "{'pod': {'@fileName': 'pods.csv', '@uniqueId': 'uid', 'uid': 'metadata.uid'},\n",
              " 'replicaset': {'@fileName': 'rs.csv',\n",
              "  '@uniqueId': 'uid',\n",
              "  'uid': 'metadata.uid'}}"
            ]
          },
          "metadata": {},
          "execution_count": 220
        }
      ]
    },
    {
      "cell_type": "code",
      "source": [
        "# read the ontology and generate cypher with mapping\n",
        "\n",
        "def getLoadersFromOnto(onto, rdf_format, mappings):\n",
        "  g = rdflib.Graph()\n",
        "  g.parse(onto, format= rdf_format)\n",
        "\n",
        "  classes_and_props_query = \"\"\"\n",
        "  prefix owl: <http://www.w3.org/2002/07/owl#> \n",
        "  prefix rdf: <http://www.w3.org/1999/02/22-rdf-syntax-ns#> \n",
        "\n",
        "  SELECT DISTINCT ?curi (GROUP_CONCAT( ?propTypePair ; SEPARATOR=\",\") AS ?props)\n",
        "  WHERE {\n",
        "      ?curi rdf:type owl:Class .\n",
        "      optional { \n",
        "        ?prop rdfs:domain ?curi ;\n",
        "          a owl:DatatypeProperty ;\n",
        "          rdfs:range ?range .\n",
        "        BIND (concat(str(?prop),';',str(?range)) AS ?propTypePair)\n",
        "      }\n",
        "    } GROUP BY ?curi  \"\"\"\n",
        "\n",
        "  cypher_import = {}\n",
        "  export_ns = set()\n",
        "  export_mappings = {}\n",
        "\n",
        "  for row in g.query(classes_and_props_query):\n",
        "      print(\"---row---\")\n",
        "      print(row)\n",
        "      print(getLocalPart(row.curi))\n",
        "      print(mappings[getLocalPart(row.curi)])\n",
        "      print(mappings[getLocalPart(row.curi)][\"@uniqueId\"])\n",
        "      print(mappings[getLocalPart(row.curi)][mappings[getLocalPart(row.curi)][\"@uniqueId\"]])\n",
        "\n",
        "      print(\"--------\")\n",
        "      export_ns.add(getNamespacePart(row.curi))\n",
        "      export_mappings[getLocalPart(row.curi)] = str(row.curi)\n",
        "      cypher = []\n",
        "      cypher.append(\"unwind $records AS record\")\n",
        "      cypher.append(\"merge (n:\" + getLocalPart(row.curi) + \" { `\" + mappings[getLocalPart(row.curi)][\"@uniqueId\"] + \"`: record.`\" + mappings[getLocalPart(row.curi)][mappings[getLocalPart(row.curi)][\"@uniqueId\"]] + \"`} )\")\n",
        "      for pair in row.props.split(\",\"): \n",
        "        print(\"----row.props---\")\n",
        "        print(row.props.split(\",\"))  \n",
        "        print(pair.split(\";\")[0])   \n",
        "        #print(pair.split(\";\")[1])\n",
        "        print(\"-----\")\n",
        "        propName = pair.split(\";\")[0]\n",
        "        #propType = pair.split(\";\")[1] \n",
        "        export_ns.add(getNamespacePart(propName))\n",
        "        export_mappings[getLocalPart(propName)] = propName\n",
        "        #if a mapping (a column in the source file) is defined for the property and property is not a unique id\n",
        "        if getLocalPart(propName) in mappings[getLocalPart(row.curi)] and getLocalPart(propName) != mappings[getLocalPart(row.curi)][\"@uniqueId\"]:\n",
        "          cypher.append(\"set n.\" + getLocalPart(propName) + \" = record.`\" + mappings[getLocalPart(row.curi)][getLocalPart(propName)] + \"`\")\n",
        "      cypher.append(\"return count(*) as total\") \n",
        "      cypher_import[getLocalPart(row.curi)] = ' \\n'.join(cypher)\n",
        "\n",
        "\n",
        "  rels_query = \"\"\"\n",
        "  prefix owl: <http://www.w3.org/2002/07/owl#> \n",
        "  prefix rdf: <http://www.w3.org/1999/02/22-rdf-syntax-ns#> \n",
        "\n",
        "  SELECT DISTINCT ?rel ?dom ?ran #(GROUP_CONCAT(DISTINCT ?relTriplet ; SEPARATOR=\",\") AS ?rels)\n",
        "  WHERE {\n",
        "      ?rel a ?propertyClass .\n",
        "      filter(?propertyClass in (rdf:Property, owl:ObjectProperty, owl:FunctionalProperty, owl:AsymmetricProperty, \n",
        "            owl:InverseFunctionalProperty, owl:IrreflexiveProperty, owl:ReflexiveProperty, owl:SymmetricProperty, owl:TransitiveProperty))\n",
        "      \n",
        "      ?rel rdfs:domain ?dom ;\n",
        "        rdfs:range ?ran .\n",
        "      \n",
        "      #BIND (concat(str(?rel),';',str(?dom),';',str(?range)) AS ?relTriplet)\n",
        "      \n",
        "    }\"\"\"\n",
        "\n",
        "  #for row in g.query(rels_query):\n",
        "   # export_ns.add(getNamespacePart(row.rel))\n",
        "  #  export_mappings[getLocalPart(row.rel)] = str(row.rel)\n",
        "    #cypher = []\n",
        "    #cypher.append(\"unwind $records AS record\")\n",
        "    #cypher.append(\"match (source:\" + getLocalPart(row.dom) + \" { `\" + mappings[getLocalPart(row.dom)][\"@uniqueId\"] + \"`: record.`\" + mappings[getLocalPart(row.rel)][\"@from\"] + \"`} )\")\n",
        "    #cypher.append(\"match (target:\" + getLocalPart(row.ran) + \" { `\" + mappings[getLocalPart(row.ran)][\"@uniqueId\"] + \"`: record.`\" + mappings[getLocalPart(row.rel)][\"@to\"] + \"`} )\")\n",
        "    #cypher.append(\"merge (source)-[r:`\"+ getLocalPart(row.rel) +\"`]->(target)\")\n",
        "    #cypher.append(\"return count(*) as total\") \n",
        "    #cypher_import[getLocalPart(row.rel)] = ' \\n'.join(cypher)\n",
        "\n",
        "\n",
        "  nscount = 0\n",
        "  mapping_export_cypher = []\n",
        "  \n",
        "  for ns in export_ns:\n",
        "    mapping_export_cypher.append(\"call n10s.nsprefixes.add('ns\" + str(nscount) + \"','\" + ns + \"');\")\n",
        "    nscount+=1\n",
        "\n",
        "  for k in export_mappings.keys():\n",
        "    mapping_export_cypher.append(\"call n10s.mapping.add('\" + export_mappings[k] + \"','\" + k + \"');\")\n",
        " \n",
        "  return cypher_import ,  mapping_export_cypher"
      ],
      "metadata": {
        "id": "JD6M1M5bqiNh"
      },
      "execution_count": null,
      "outputs": []
    },
    {
      "cell_type": "code",
      "source": [
        "cypher_import , mapping_defs = getLoadersFromOnto(\"https://raw.githubusercontent.com/CyrineG/lfx-2022/main/onto/kubernetes-resources2.ttl\",\"turtle\",resourcesMappings)\n",
        "\n",
        "print(\"#LOADERS:\\n\\n\")\n",
        "for q in cypher_import.keys():\n",
        "  print(q + \": \\n\\nfile: \" + resourcesMappings[q][\"@fileName\"] + \"\\n\\n\"+ cypher_import[q] + \"\\n\\n\")\n",
        "\n",
        "print(\"#EXPORT MAPPINGS (for RDF API):\\n\\n\")\n",
        "for md in mapping_defs:\n",
        "  print(md)"
      ],
      "metadata": {
        "colab": {
          "base_uri": "https://localhost:8080/"
        },
        "id": "5HgoB6uc9OB_",
        "outputId": "d99a483e-bc02-4c08-8a72-e2be86dd5555"
      },
      "execution_count": null,
      "outputs": [
        {
          "output_type": "stream",
          "name": "stdout",
          "text": [
            "---row---\n",
            "(rdflib.term.URIRef('http://www.semanticweb.org/cyrine/ontologies/2022/8/kubernetes-resources#pod'), rdflib.term.Literal('http://www.semanticweb.org/cyrine/ontologies/2022/8/kubernetes-resources#uid;http://www.w3.org/2001/XMLSchema#string'))\n",
            "pod\n",
            "{'@fileName': 'pods.csv', '@uniqueId': 'uid', 'uid': 'metadata.uid'}\n",
            "uid\n",
            "metadata.uid\n",
            "--------\n",
            "----row.props---\n",
            "['http://www.semanticweb.org/cyrine/ontologies/2022/8/kubernetes-resources#uid;http://www.w3.org/2001/XMLSchema#string']\n",
            "http://www.semanticweb.org/cyrine/ontologies/2022/8/kubernetes-resources#uid\n",
            "-----\n",
            "---row---\n",
            "(rdflib.term.URIRef('http://www.semanticweb.org/cyrine/ontologies/2022/8/kubernetes-resources#replicaset'), rdflib.term.Literal('http://www.semanticweb.org/cyrine/ontologies/2022/8/kubernetes-resources#uid;http://www.w3.org/2001/XMLSchema#string'))\n",
            "replicaset\n",
            "{'@fileName': 'rs.csv', '@uniqueId': 'uid', 'uid': 'metadata.uid'}\n",
            "uid\n",
            "metadata.uid\n",
            "--------\n",
            "----row.props---\n",
            "['http://www.semanticweb.org/cyrine/ontologies/2022/8/kubernetes-resources#uid;http://www.w3.org/2001/XMLSchema#string']\n",
            "http://www.semanticweb.org/cyrine/ontologies/2022/8/kubernetes-resources#uid\n",
            "-----\n",
            "#LOADERS:\n",
            "\n",
            "\n",
            "pod: \n",
            "\n",
            "file: pods.csv\n",
            "\n",
            "unwind $records AS record \n",
            "merge (n:pod { `uid`: record.`metadata.uid`} ) \n",
            "return count(*) as total\n",
            "\n",
            "\n",
            "replicaset: \n",
            "\n",
            "file: rs.csv\n",
            "\n",
            "unwind $records AS record \n",
            "merge (n:replicaset { `uid`: record.`metadata.uid`} ) \n",
            "return count(*) as total\n",
            "\n",
            "\n",
            "#EXPORT MAPPINGS (for RDF API):\n",
            "\n",
            "\n",
            "call n10s.nsprefixes.add('ns0','http://www.semanticweb.org/cyrine/ontologies/2022/8/kubernetes-resources#');\n",
            "call n10s.mapping.add('http://www.semanticweb.org/cyrine/ontologies/2022/8/kubernetes-resources#pod','pod');\n",
            "call n10s.mapping.add('http://www.semanticweb.org/cyrine/ontologies/2022/8/kubernetes-resources#uid','uid');\n",
            "call n10s.mapping.add('http://www.semanticweb.org/cyrine/ontologies/2022/8/kubernetes-resources#replicaset','replicaset');\n"
          ]
        }
      ]
    },
    {
      "cell_type": "markdown",
      "source": [],
      "metadata": {
        "id": "sijo53MBFlLs"
      }
    },
    {
      "cell_type": "markdown",
      "source": [],
      "metadata": {
        "id": "he9QiNQiFlV_"
      }
    },
    {
      "cell_type": "markdown",
      "source": [],
      "metadata": {
        "id": "LDmiQC95FlZ2"
      }
    },
    {
      "cell_type": "markdown",
      "source": [],
      "metadata": {
        "id": "xnWCBHXhFlc1"
      }
    },
    {
      "cell_type": "code",
      "source": [
        "# Utility function to write to Neo4j in batch mode.\n",
        "\n",
        "def insert_data(session, query, frame, batch_size = 500):\n",
        "\n",
        "    total = 0\n",
        "    batch = 0\n",
        "    start = time.time()\n",
        "    result = None\n",
        "    \n",
        "    while batch * batch_size < len(frame):\n",
        "        res = session.write_transaction( lambda tx: tx.run(query,\n",
        "                      parameters = {'records': frame[batch*batch_size:(batch+1)*batch_size].to_dict('records')}).data())\n",
        "\n",
        "        total += res[0]['total']\n",
        "        batch += 1\n",
        "        result = {\"total\":total, \n",
        "                  \"batches\":batch, \n",
        "                  \"time\":time.time()-start}\n",
        "        print(result)\n",
        "        \n",
        "    return result"
      ],
      "metadata": {
        "id": "b6vOYpL_rY_q"
      },
      "execution_count": null,
      "outputs": []
    },
    {
      "cell_type": "code",
      "source": [
        "import pandas as pd\n",
        "from neo4j import GraphDatabase, basic_auth\n",
        "\n",
        "driver = GraphDatabase.driver(\n",
        "  \"bolt://52.3.236.85:7687\",\n",
        "  auth=basic_auth(\"neo4j\", \"resistors-typewriters-amperes\"))\n",
        "\n",
        "session = driver.session(database=\"neo4j\")\n",
        "\n",
        "cypher_import , mapping_defs = getLoadersFromOnto(\"https://raw.githubusercontent.com/CyrineG/lfx-2022/main/onto/kubernetes-resources2.ttl\",\"turtle\",resourcesMappings)\n",
        "\n",
        "for q in cypher_import.keys():\n",
        "  print(\"about to import \" + q + \" from file \" + resourcesMappings[q][\"@fileName\"])\n",
        "  df = pd.read_csv(resourcesMappings[q][\"@fileName\"])\n",
        "  result = insert_data(session, cypher_import[q], df, batch_size = 300) \n",
        "  print(result)\n",
        "\n",
        "for md in mapping_defs:\n",
        "  session.run(md)"
      ],
      "metadata": {
        "colab": {
          "base_uri": "https://localhost:8080/"
        },
        "id": "EK0IKM2frjNh",
        "outputId": "7b770e54-6eed-4f13-e50c-55803f817022"
      },
      "execution_count": null,
      "outputs": [
        {
          "output_type": "stream",
          "name": "stdout",
          "text": [
            "---row---\n",
            "(rdflib.term.URIRef('http://www.semanticweb.org/cyrine/ontologies/2022/8/kubernetes-resources#pod'), rdflib.term.Literal('http://www.semanticweb.org/cyrine/ontologies/2022/8/kubernetes-resources#uid;http://www.w3.org/2001/XMLSchema#string'))\n",
            "pod\n",
            "{'@fileName': 'pods.csv', '@uniqueId': 'uid', 'uid': 'metadata.uid'}\n",
            "uid\n",
            "metadata.uid\n",
            "--------\n",
            "----row.props---\n",
            "['http://www.semanticweb.org/cyrine/ontologies/2022/8/kubernetes-resources#uid;http://www.w3.org/2001/XMLSchema#string']\n",
            "http://www.semanticweb.org/cyrine/ontologies/2022/8/kubernetes-resources#uid\n",
            "-----\n",
            "---row---\n",
            "(rdflib.term.URIRef('http://www.semanticweb.org/cyrine/ontologies/2022/8/kubernetes-resources#replicaset'), rdflib.term.Literal('http://www.semanticweb.org/cyrine/ontologies/2022/8/kubernetes-resources#uid;http://www.w3.org/2001/XMLSchema#string'))\n",
            "replicaset\n",
            "{'@fileName': 'rs.csv', '@uniqueId': 'uid', 'uid': 'metadata.uid'}\n",
            "uid\n",
            "metadata.uid\n",
            "--------\n",
            "----row.props---\n",
            "['http://www.semanticweb.org/cyrine/ontologies/2022/8/kubernetes-resources#uid;http://www.w3.org/2001/XMLSchema#string']\n",
            "http://www.semanticweb.org/cyrine/ontologies/2022/8/kubernetes-resources#uid\n",
            "-----\n",
            "about to import pod from file pods.csv\n"
          ]
        },
        {
          "output_type": "stream",
          "name": "stderr",
          "text": [
            "/usr/local/lib/python3.7/dist-packages/ipykernel_launcher.py:11: DeprecationWarning: write_transaction has been renamed to execute_write\n",
            "  # This is added back by InteractiveShellApp.init_path()\n"
          ]
        },
        {
          "output_type": "stream",
          "name": "stdout",
          "text": [
            "{'total': 2, 'batches': 1, 'time': 0.8499026298522949}\n",
            "{'total': 2, 'batches': 1, 'time': 0.8499026298522949}\n",
            "about to import replicaset from file rs.csv\n",
            "{'total': 2, 'batches': 1, 'time': 0.325575590133667}\n",
            "{'total': 2, 'batches': 1, 'time': 0.325575590133667}\n"
          ]
        }
      ]
    }
  ]
}